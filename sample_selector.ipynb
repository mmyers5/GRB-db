{
 "cells": [
  {
   "cell_type": "code",
   "execution_count": 24,
   "metadata": {},
   "outputs": [],
   "source": [
    "import re\n",
    "import csv\n",
    "import gzip\n",
    "import dateutil\n",
    "import matplotlib.pyplot as plt"
   ]
  },
  {
   "cell_type": "code",
   "execution_count": 2,
   "metadata": {},
   "outputs": [],
   "source": [
    "Z_FILE = 'primary_table.csv'\n",
    "HST_FILE = 'hsc/hsc_results_table.csv.gz'\n",
    "SPITZ_FILE = 'sha/sha_results_table_1543989340.csv'\n",
    "SWIFT_FILE = 'swift_table.csv'"
   ]
  },
  {
   "cell_type": "code",
   "execution_count": 3,
   "metadata": {},
   "outputs": [],
   "source": [
    "# check if a grb has been observed nmonths after burst\n",
    "def date_checker(grb, obs_time, nmonths=6):\n",
    "    # grb string, e.g. 040924\n",
    "    grb_num = re.sub('[^0-9]', '', grb)\n",
    "    if grb.startswith('9'):\n",
    "        grb_date_str = '19{}'.format(grb_num)\n",
    "    else:\n",
    "        grb_date_str = '20{}'.format(grb_num)\n",
    "    \n",
    "    grb_date = dateutil.parser.parse(grb_date_str)\n",
    "    obs_date = dateutil.parser.parse(obs_time)\n",
    "    relative = dateutil.relativedelta.relativedelta(months=nmonths)\n",
    "    \n",
    "    return obs_date > grb_date + relative"
   ]
  },
  {
   "cell_type": "code",
   "execution_count": 4,
   "metadata": {},
   "outputs": [],
   "source": [
    "# grbs with redshift\n",
    "z_grbs = set()\n",
    "with open(Z_FILE, 'r') as f:\n",
    "    reader = csv.DictReader(f)\n",
    "    for row in reader:\n",
    "        try:\n",
    "            z = float(row['z'])\n",
    "        # only accept \"valid\" redshifts\n",
    "        except ValueError:\n",
    "            continue\n",
    "        z_grbs.add(row['grb'])"
   ]
  },
  {
   "cell_type": "code",
   "execution_count": 5,
   "metadata": {},
   "outputs": [],
   "source": [
    "# grbs observed in Spitzer\n",
    "spitz_grbs = set()\n",
    "with open(SPITZ_FILE, 'r') as f:\n",
    "    reader = csv.DictReader(f)\n",
    "    for row in reader:\n",
    "        grb = row['Search_Tgt'].strip('GRB')\n",
    "        obs_date = row['reqendtime']\n",
    "        \n",
    "        is_late_enough = date_checker(grb, obs_date, nmonths=4)       \n",
    "        if is_late_enough:\n",
    "            spitz_grbs.add(grb)"
   ]
  },
  {
   "cell_type": "code",
   "execution_count": 20,
   "metadata": {},
   "outputs": [],
   "source": [
    "# grbs observed in HST\n",
    "hst_grbs = set()\n",
    "# hsc results indexed by primary_table since queries are \n",
    "# made from primary_table (parsed)\n",
    "with open(Z_FILE, 'r') as f:\n",
    "    grb_list = f.readlines()\n",
    "\n",
    "\n",
    "with gzip.open(HST_FILE, 'rt') as f:\n",
    "    reader = csv.DictReader(f)\n",
    "    next(reader)     # skip dtype header\n",
    "    for row in reader:\n",
    "        entry = int(row['Entry'])\n",
    "        grb = grb_list[entry].split(',')[0]\n",
    "        obs_date = row['StopTime']\n",
    "        if grb in hst_grbs:\n",
    "            continue\n",
    "        is_grb_target = 'grb' in row['Target Name'].lower()\n",
    "        is_near = float(row[\"Ang Sep (')\"]) < 5    # dist in arcmin\n",
    "        is_late_enough = date_checker(grb, obs_date, nmonths=6)        \n",
    "        if (is_grb_target or is_near) and is_late_enough:\n",
    "            hst_grbs.add(grb)"
   ]
  },
  {
   "cell_type": "code",
   "execution_count": 21,
   "metadata": {},
   "outputs": [
    {
     "name": "stdout",
     "output_type": "stream",
     "text": [
      "163 431 449\n"
     ]
    }
   ],
   "source": [
    "print(len(hst_grbs), len(spitz_grbs), len(z_grbs))"
   ]
  },
  {
   "cell_type": "code",
   "execution_count": 22,
   "metadata": {},
   "outputs": [
    {
     "name": "stdout",
     "output_type": "stream",
     "text": [
      "64\n"
     ]
    }
   ],
   "source": [
    "# This is problematic. Must compare against current sample\n",
    "# Issue from making angular separation too stringent in hsc search\n",
    "print(len(z_grbs.intersection(spitz_grbs).intersection(hst_grbs)))"
   ]
  },
  {
   "cell_type": "code",
   "execution_count": null,
   "metadata": {},
   "outputs": [],
   "source": [
    "# plotter goes here"
   ]
  }
 ],
 "metadata": {
  "kernelspec": {
   "display_name": "Python 3",
   "language": "python",
   "name": "python3"
  },
  "language_info": {
   "codemirror_mode": {
    "name": "ipython",
    "version": 3
   },
   "file_extension": ".py",
   "mimetype": "text/x-python",
   "name": "python",
   "nbconvert_exporter": "python",
   "pygments_lexer": "ipython3",
   "version": "3.6.7"
  }
 },
 "nbformat": 4,
 "nbformat_minor": 2
}
