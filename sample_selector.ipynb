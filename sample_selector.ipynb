{
 "cells": [
  {
   "cell_type": "code",
   "execution_count": 1,
   "metadata": {},
   "outputs": [],
   "source": [
    "import re\n",
    "import numpy as np\n",
    "import csv\n",
    "import gzip\n",
    "import dateutil\n",
    "import matplotlib.pyplot as plt"
   ]
  },
  {
   "cell_type": "code",
   "execution_count": 2,
   "metadata": {},
   "outputs": [],
   "source": [
    "Z_FILE = 'primary_table.csv'\n",
    "HST_FILE = 'hsc/hst_search.csv.gz'\n",
    "SPITZ_FILE = 'sha/sha_results_table_combined.csv'\n",
    "SWIFT_FILE = 'swift_table.csv'"
   ]
  },
  {
   "cell_type": "code",
   "execution_count": 3,
   "metadata": {},
   "outputs": [],
   "source": [
    "# check if a grb has been observed nmonths after burst\n",
    "def date_checker(grb, obs_time, nmonths=6):\n",
    "    # grb string, e.g. 040924\n",
    "    grb_num = re.sub('[^0-9]', '', grb)\n",
    "    if grb.startswith('9'):\n",
    "        grb_date_str = '19{}'.format(grb_num)\n",
    "    else:\n",
    "        grb_date_str = '20{}'.format(grb_num)\n",
    "    \n",
    "    grb_date = dateutil.parser.parse(grb_date_str)\n",
    "    obs_date = dateutil.parser.parse(obs_time)\n",
    "    relative = dateutil.relativedelta.relativedelta(months=nmonths)\n",
    "    \n",
    "    return obs_date > grb_date + relative"
   ]
  },
  {
   "cell_type": "code",
   "execution_count": 4,
   "metadata": {},
   "outputs": [],
   "source": [
    "# grbs with redshift\n",
    "z_grbs = set()\n",
    "with open(Z_FILE, 'r') as f:\n",
    "    reader = csv.DictReader(f)\n",
    "    for row in reader:\n",
    "        try:\n",
    "            z = float(row['z'])\n",
    "        # only accept \"valid\" redshifts\n",
    "        except ValueError:\n",
    "            continue\n",
    "        z_grbs.add(row['grb'])"
   ]
  },
  {
   "cell_type": "code",
   "execution_count": 5,
   "metadata": {},
   "outputs": [],
   "source": [
    "# grbs observed in Spitzer\n",
    "spitz_grbs = set()\n",
    "with open(SPITZ_FILE, 'r') as f:\n",
    "    reader = csv.DictReader(f)\n",
    "    for row in reader:\n",
    "        grb = row['Search_Tgt'][3:]\n",
    "        obs_date = row['reqendtime']\n",
    "        \n",
    "        is_late_enough = date_checker(grb, obs_date, nmonths=3)       \n",
    "        if is_late_enough:\n",
    "            spitz_grbs.add(grb)"
   ]
  },
  {
   "cell_type": "code",
   "execution_count": 6,
   "metadata": {},
   "outputs": [],
   "source": [
    "# grbs observed in HST\n",
    "hst_grbs = set()\n",
    "# hsc results indexed by primary_table since queries are \n",
    "# made from primary_table (parsed)\n",
    "query_table = 'hsc/sha_hsc_query_table.csv'\n",
    "with open(query_table, 'r') as f:\n",
    "    grb_list = f.readlines()\n",
    "\n",
    "with gzip.open(HST_FILE, 'rt') as f:\n",
    "    reader = csv.DictReader(f)\n",
    "    next(reader)     # skip dtype header\n",
    "    for row in reader:\n",
    "        entry = int(row['Entry']) - 1\n",
    "        grb = grb_list[entry].split(',')[-1][3:].strip('\\n')\n",
    "        if grb in hst_grbs:\n",
    "            continue\n",
    "        obs_date = row['Stop Time']\n",
    "\n",
    "        is_grb_target = (\n",
    "            (\n",
    "                'grb' in row['Target Name'].lower() or\n",
    "                'gamma' in row['Target Descrip'].lower()\n",
    "            )\n",
    "        )\n",
    "        is_near = float(row[\"Ang Sep (')\"]) < 5.2    # dist in arcmin   \n",
    "        if (is_grb_target or is_near):\n",
    "            hst_grbs.add(grb)"
   ]
  },
  {
   "cell_type": "code",
   "execution_count": 7,
   "metadata": {},
   "outputs": [
    {
     "name": "stdout",
     "output_type": "stream",
     "text": [
      "236 612 449\n"
     ]
    }
   ],
   "source": [
    "print(len(hst_grbs), len(spitz_grbs), len(z_grbs))"
   ]
  },
  {
   "cell_type": "code",
   "execution_count": 10,
   "metadata": {
    "scrolled": true
   },
   "outputs": [
    {
     "name": "stdout",
     "output_type": "stream",
     "text": [
      "125\n"
     ]
    }
   ],
   "source": [
    "SAMPLE_GRBS = (z_grbs.intersection(spitz_grbs).intersection(hst_grbs))\n",
    "print(len(SAMPLE_GRBS))"
   ]
  },
  {
   "cell_type": "code",
   "execution_count": 9,
   "metadata": {},
   "outputs": [
    {
     "data": {
      "text/plain": [
       "(0.38876889848812096, 3.5696579077838377)"
      ]
     },
     "execution_count": 9,
     "metadata": {},
     "output_type": "execute_result"
    },
    {
     "data": {
      "image/png": "[encoded data removed]",
      "text/plain": [
       "<Figure size 432x288 with 2 Axes>"
      ]
     },
     "metadata": {
      "needs_background": "light"
     },
     "output_type": "display_data"
    }
   ],
   "source": [
    "# plotter goes here\n",
    "# very crude!\n",
    "z_grbs_dict = {}\n",
    "with open(Z_FILE, 'r') as f:\n",
    "    for line in f:\n",
    "        grb, radec, tel, z = line.split(',')\n",
    "        try:\n",
    "            z = float(z)\n",
    "            z_grbs_dict[grb] = z\n",
    "        except:\n",
    "            continue\n",
    "\n",
    "sample_grbs = z_grbs.intersection(spitz_grbs).intersection(hst_grbs)\n",
    "z_list = [z_grbs_dict[grb] for grb in sample_grbs]\n",
    "\n",
    "plt.subplot(1,2,1)\n",
    "bins = np.arange(2*max(z_list))/2.\n",
    "ticks = np.arange(max(z_list))\n",
    "plt.hist(z_list, bins=bins, histtype='step', hatch='\\\\\\\\\\\\', facecolor='w', edgecolor='k')\n",
    "plt.xlabel('Redshift')\n",
    "plt.ylabel('Number of Targets Observed')\n",
    "plt.xticks(ticks)\n",
    "plt.xlim((0, max(z_list)))\n",
    "\n",
    "plt.subplot(1,2,2)\n",
    "wav_list = [3.6/(z_grbs_dict[grb]+1) for grb in sample_grbs]\n",
    "bins = np.arange(3*(max(wav_list)))/3.\n",
    "ticks = np.arange(2*max(z_list))/2.\n",
    "plt.hist(wav_list, bins=bins, histtype='step', hatch='\\\\\\\\\\\\', facecolor='w', edgecolor='k')\n",
    "plt.xlabel('Rest Wavelength')\n",
    "plt.ylabel('Number of Targets Observed')\n",
    "plt.xticks(ticks)\n",
    "plt.xlim((min(wav_list), max(wav_list)))"
   ]
  },
  {
   "cell_type": "code",
   "execution_count": 22,
   "metadata": {},
   "outputs": [],
   "source": [
    "BLANCHARD_GRBS = [\n",
    "    '040924', '041006',\n",
    "    '050315', '050401', '050525', '050730', '050824', '050908', '051016B', '051022',\n",
    "    '060124', '060206', '060218', '060512', '060526', '060607', '060614', '060719', '060729', '061007', '061110B',\n",
    "    '070208', '070306', '070318', '070721B', '070802', '071112C',\n",
    "    '080319B', '080325', '080430', '080603B', '080707', '080805', '080928', '081007', '081008',' 081109', '081121',\n",
    "    '090407', '090417B', '090424', '091127', '091208B', \n",
    "    '100615A', '100621A',\n",
    "    '110731A',\n",
    "    '120119A'\n",
    "]"
   ]
  },
  {
   "cell_type": "code",
   "execution_count": 30,
   "metadata": {},
   "outputs": [
    {
     "name": "stdout",
     "output_type": "stream",
     "text": [
      "77\n"
     ]
    }
   ],
   "source": [
    "missing_grbs = []\n",
    "for grb in SAMPLE_GRBS:\n",
    "    if ('X' in grb) or (grb in BLANCHARD_GRBS):\n",
    "        continue\n",
    "    else:\n",
    "        missing_grbs.append(grb)\n",
    "print(len(missing_grbs))"
   ]
  },
  {
   "cell_type": "code",
   "execution_count": 31,
   "metadata": {
    "scrolled": true
   },
   "outputs": [
    {
     "data": {
      "text/plain": [
       "['000131',\n",
       " '000301C',\n",
       " '000418',\n",
       " '000926',\n",
       " '010222',\n",
       " '010921',\n",
       " '011121',\n",
       " '011211',\n",
       " '020124',\n",
       " '020405',\n",
       " '020813',\n",
       " '021004',\n",
       " '021211',\n",
       " '030323',\n",
       " '030329',\n",
       " '050408',\n",
       " '050820',\n",
       " '050904',\n",
       " '060115',\n",
       " '060223',\n",
       " '060502',\n",
       " '060505',\n",
       " '060522',\n",
       " '060605',\n",
       " '060814',\n",
       " '060912',\n",
       " '060927',\n",
       " '061110',\n",
       " '061222',\n",
       " '070521',\n",
       " '071010',\n",
       " '071020',\n",
       " '071021',\n",
       " '071031',\n",
       " '071122',\n",
       " '080207',\n",
       " '080310',\n",
       " '080520',\n",
       " '080603',\n",
       " '080605',\n",
       " '080607',\n",
       " '080710',\n",
       " '080916',\n",
       " '081109',\n",
       " '081221',\n",
       " '090102',\n",
       " '090113',\n",
       " '090418',\n",
       " '090423',\n",
       " '090618',\n",
       " '100728B',\n",
       " '100905A',\n",
       " '101225A',\n",
       " '111005A',\n",
       " '111209A',\n",
       " '120521C',\n",
       " '120711A',\n",
       " '130427A',\n",
       " '130505A',\n",
       " '130606A',\n",
       " '130925A',\n",
       " '140515A',\n",
       " '150314A',\n",
       " '161219B',\n",
       " '970228',\n",
       " '970508',\n",
       " '970828',\n",
       " '971214',\n",
       " '980425',\n",
       " '980613',\n",
       " '980703',\n",
       " '990123',\n",
       " '990506',\n",
       " '990510',\n",
       " '990705',\n",
       " '990712',\n",
       " '991208']"
      ]
     },
     "execution_count": 31,
     "metadata": {},
     "output_type": "execute_result"
    }
   ],
   "source": [
    "sorted(missing_grbs)"
   ]
  },
  {
   "cell_type": "code",
   "execution_count": null,
   "metadata": {},
   "outputs": [],
   "source": []
  }
 ],
 "metadata": {
  "kernelspec": {
   "display_name": "Python 3",
   "language": "python",
   "name": "python3"
  },
  "language_info": {
   "codemirror_mode": {
    "name": "ipython",
    "version": 3
   },
   "file_extension": ".py",
   "mimetype": "text/x-python",
   "name": "python",
   "nbconvert_exporter": "python",
   "pygments_lexer": "ipython3",
   "version": "3.6.7"
  }
 },
 "nbformat": 4,
 "nbformat_minor": 2
}
