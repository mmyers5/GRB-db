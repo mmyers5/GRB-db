{
 "cells": [
  {
   "cell_type": "code",
   "execution_count": 3,
   "metadata": {},
   "outputs": [],
   "source": [
    "import csv\n",
    "import gzip"
   ]
  },
  {
   "cell_type": "code",
   "execution_count": 23,
   "metadata": {},
   "outputs": [],
   "source": [
    "Z_FILE = 'primary_table.csv'\n",
    "HST_FILE = 'hst_table.csv.gz'\n",
    "SPITZ_FILE = 'sha_table.csv'\n",
    "SWIFT_FILE = 'swift_table.csv'"
   ]
  },
  {
   "cell_type": "code",
   "execution_count": 21,
   "metadata": {},
   "outputs": [],
   "source": [
    "# grbs with redshift\n",
    "z_grbs = set()\n",
    "with open(Z_FILE, 'r') as f:\n",
    "    reader = csv.DictReader(f)\n",
    "    for row in reader:\n",
    "        try:\n",
    "            z = float(row['z'])\n",
    "        # only accept \"valid\" redshifts\n",
    "        except ValueError:\n",
    "            continue\n",
    "        z_grbs.add(row['grb'])"
   ]
  },
  {
   "cell_type": "code",
   "execution_count": 24,
   "metadata": {},
   "outputs": [],
   "source": [
    "# grbs observed in Spitzer\n",
    "spitz_grbs = set()\n",
    "with open(SPITZ_FILE, 'r') as f:\n",
    "    reader = csv.DictReader(f)\n",
    "    for row in reader:\n",
    "        spitz_grbs.add(row['grb'])"
   ]
  },
  {
   "cell_type": "code",
   "execution_count": 121,
   "metadata": {},
   "outputs": [],
   "source": [
    "def date_checker(grb, start_time, nmonths=4):\n",
    "    start_mm = int(start_time.split('/')[0])\n",
    "    start_yy = int(start_time.split('/')[-1].split(' ')[0][2:])\n",
    "\n",
    "    grb_mm = int(grb[2:4])\n",
    "    grb_yy = int(grb[0:2])\n",
    "    late_enough = True\n",
    "    if start_yy == grb_yy + 1:\n",
    "        if 12 - grb_mm - start_mm < nmonths:\n",
    "            late_enough = False\n",
    "    elif start_yy == grb_yy:\n",
    "        if grb_mm - start_mm < nmonths:\n",
    "            late_enough = False\n",
    "    return late_enough"
   ]
  },
  {
   "cell_type": "code",
   "execution_count": 122,
   "metadata": {},
   "outputs": [],
   "source": [
    "# grbs observed in HST\n",
    "hst_grbs = set()\n",
    "with gzip.open(HST_FILE, 'rt') as f:\n",
    "    reader = csv.DictReader(f)\n",
    "    for row in reader:\n",
    "        if date_checker(row['grb'], row['StartTime'], nmonths=4):\n",
    "            hst_grbs.add(row['grb'])"
   ]
  }
 ],
 "metadata": {
  "kernelspec": {
   "display_name": "Python 3",
   "language": "python",
   "name": "python3"
  },
  "language_info": {
   "codemirror_mode": {
    "name": "ipython",
    "version": 3
   },
   "file_extension": ".py",
   "mimetype": "text/x-python",
   "name": "python",
   "nbconvert_exporter": "python",
   "pygments_lexer": "ipython3",
   "version": "3.6.7"
  }
 },
 "nbformat": 4,
 "nbformat_minor": 2
}
